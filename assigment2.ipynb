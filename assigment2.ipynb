{
 "cells": [
  {
   "cell_type": "code",
   "execution_count": 2,
   "metadata": {},
   "outputs": [
    {
     "name": "stdout",
     "output_type": "stream",
     "text": [
      "[['a', 30], ['c', 31], ['e', 31], ['b', 31.1], ['d', 31.11]]\n",
      "['c', 31]\n"
     ]
    }
   ],
   "source": [
    "#record = [ [\"a\",30] , [\"b\",31.1] , [\"c\",31] , [\"d\",31.11],[\"e\",31] ]\n",
    "#v = min(record)\n",
    "\n",
    "record = [[\"a\", 30], [\"b\", 31.1], [\"c\", 31], [\"d\", 31.11], [\"e\", 31]]\n",
    "#sort function using lamda\n",
    "second_lowrest = record.sort(key=lambda x:x[1])\n",
    "print(record)\n",
    "\n",
    "second_lowest = record[1]\n",
    "\n",
    "print(second_lowest)"
   ]
  },
  {
   "cell_type": "code",
   "execution_count": 4,
   "metadata": {},
   "outputs": [
    {
     "name": "stdout",
     "output_type": "stream",
     "text": [
      "l3 = [0, 8, 7]\n",
      "324\n"
     ]
    }
   ],
   "source": [
    "l1 = [4, 2, 3]\n",
    "l2 = [6, 5, 4]\n",
    "\n",
    "# Reverse both lists\n",
    "l1.reverse()\n",
    "l2.reverse()\n",
    "\n",
    "# Convert both lists into numbers\n",
    "num1 = int(\"\".join(map(str, l1)))\n",
    "num2 = int(\"\".join(map(str, l2)))\n",
    "\n",
    "# Calculate the sum\n",
    "num3 = num1 + num2\n",
    "\n",
    "# Convert the sum back into a list of digits\n",
    "l3 = [int(d) for d in str(num3)][::-1]\n",
    "\n",
    "# Output the result\n",
    "print(\"l3 =\", l3)\n",
    "print(num1)\n"
   ]
  },
  {
   "cell_type": "code",
   "execution_count": 1,
   "metadata": {},
   "outputs": [
    {
     "name": "stdout",
     "output_type": "stream",
     "text": [
      "['__add__', '__class__', '__class_getitem__', '__contains__', '__delattr__', '__dir__', '__doc__', '__eq__', '__format__', '__ge__', '__getattribute__', '__getitem__', '__getnewargs__', '__gt__', '__hash__', '__init__', '__init_subclass__', '__iter__', '__le__', '__len__', '__lt__', '__mul__', '__ne__', '__new__', '__reduce__', '__reduce_ex__', '__repr__', '__rmul__', '__setattr__', '__sizeof__', '__str__', '__subclasshook__', 'count', 'index']\n"
     ]
    }
   ],
   "source": []
  },
  {
   "cell_type": "code",
   "execution_count": 3,
   "metadata": {},
   "outputs": [
    {
     "name": "stdout",
     "output_type": "stream",
     "text": [
      "11\n"
     ]
    }
   ],
   "source": [
    "tup = (45,22,12,4767,343,11)\n",
    "a = min(tup)\n",
    "print(a)"
   ]
  },
  {
   "cell_type": "code",
   "execution_count": 3,
   "metadata": {},
   "outputs": [
    {
     "name": "stdout",
     "output_type": "stream",
     "text": [
      "The ASCII value of A is 65\n"
     ]
    }
   ],
   "source": [
    "# Take input from the user\n",
    "ch = input(\"Enter a character: \")\n",
    "\n",
    "# Convert the character to its ASCII value\n",
    "ascii_value = ord(ch)\n",
    "\n",
    "# Output the result\n",
    "print(\"The ASCII value of\", ch, \"is\", ascii_value)\n"
   ]
  },
  {
   "cell_type": "code",
   "execution_count": null,
   "metadata": {},
   "outputs": [],
   "source": [
    "# Function to find the GCD (Greatest Common Divisor) of two numbers\n",
    "def gcd(a, b):\n",
    "    if b == 0:\n",
    "        return a\n",
    "    else:\n",
    "        return gcd(b, a % b)\n",
    "\n",
    "# Function to find the LCM of two numbers\n",
    "def lcm(a, b):\n",
    "    return (a * b) // gcd(a, b)\n",
    "\n",
    "# Take input from the user\n",
    "num1 = int(input(\"Enter first number: \"))\n",
    "num2 = int(input(\"Enter second number: \"))\n",
    "\n",
    "# Calculate the LCM using the lcm() function\n",
    "result = lcm(num1, num2)\n",
    "\n",
    "# Output the result\n",
    "print(\"The LCM of\", num1, \"and\", num2, \"is\", result)\n"
   ]
  },
  {
   "cell_type": "code",
   "execution_count": 5,
   "metadata": {},
   "outputs": [
    {
     "name": "stdout",
     "output_type": "stream",
     "text": [
      "[0, 1]\n",
      "[1, 3]\n"
     ]
    }
   ],
   "source": [
    "def f(l1, tar):\n",
    "    for i in range(len(l1)):\n",
    "        for j in range(len(l1)):\n",
    "                if(l1[i]+l1[j] == tar):\n",
    "                    return [i,j]\n",
    "    return -1\n",
    "l1 = [2, 7, 18, 13]\n",
    "l2 = [3, 4, 6, 8]\n",
    "tar = 9\n",
    "tar2 = 12\n",
    "print(f(l1, tar ))\n",
    "print(f(l2, tar2))\n"
   ]
  },
  {
   "cell_type": "code",
   "execution_count": null,
   "metadata": {},
   "outputs": [],
   "source": [
    "def longest_common_prefix(strs):\n",
    "    if not strs:\n",
    "        return \"\"\n",
    "    \n",
    "    # Find the minimum length string in the list\n",
    "    min_str = min(strs, key=len)\n",
    "    \n",
    "    # Iterate over the characters of the minimum length string\n",
    "    for i, ch in enumerate(min_str):\n",
    "        # Check if the character is present in all the strings\n",
    "        if not all(s[i] == ch for s in strs):\n",
    "            return min_str[:i]\n",
    "    \n",
    "    return min_str\n",
    "\n",
    "# Example usage:\n",
    "l1 = [\"flower\", \"flight\", \"flake\"]\n",
    "lcm = longest_common_prefix(l1)\n",
    "print(\"The longest common prefix among the strings is:\", lcm)"
   ]
  },
  {
   "cell_type": "code",
   "execution_count": 11,
   "metadata": {},
   "outputs": [
    {
     "name": "stdout",
     "output_type": "stream",
     "text": [
      "2\n"
     ]
    }
   ],
   "source": [
    "def add(a, b):\n",
    "    while b != 0:\n",
    "        carry = a & b\n",
    "        a = a ^ b\n",
    "\n",
    "        # Carry is shifted by one so that adding it to a gives the required sum\n",
    "        b = carry << 1\n",
    "\n",
    "    return a\n",
    "\n",
    "# Example usage:\n",
    "num1 = 2\n",
    "num2 = 5\n",
    "result = add(num1, num2)\n",
    "print( result)\n"
   ]
  },
  {
   "cell_type": "code",
   "execution_count": null,
   "metadata": {},
   "outputs": [],
   "source": []
  },
  {
   "cell_type": "code",
   "execution_count": null,
   "metadata": {},
   "outputs": [],
   "source": []
  },
  {
   "cell_type": "code",
   "execution_count": 24,
   "metadata": {},
   "outputs": [
    {
     "ename": "NameError",
     "evalue": "name 'c' is not defined",
     "output_type": "error",
     "traceback": [
      "\u001b[1;31m---------------------------------------------------------------------------\u001b[0m",
      "\u001b[1;31mNameError\u001b[0m                                 Traceback (most recent call last)",
      "Cell \u001b[1;32mIn[24], line 2\u001b[0m\n\u001b[0;32m      1\u001b[0m l1 \u001b[39m=\u001b[39m [\u001b[39m1\u001b[39m,\u001b[39m2\u001b[39m,\u001b[39m3\u001b[39m]\n\u001b[1;32m----> 2\u001b[0m res \u001b[39m=\u001b[39m [ [a, b, c] \u001b[39mfor\u001b[39;49;00m a \u001b[39min\u001b[39;49;00m l1 \u001b[39mfor\u001b[39;49;00m b \u001b[39min\u001b[39;49;00m l1  \u001b[39mif\u001b[39;49;00m ( a\u001b[39m!=\u001b[39;49m b)]\n\u001b[0;32m      3\u001b[0m \u001b[39mprint\u001b[39m(res)\n",
      "Cell \u001b[1;32mIn[24], line 2\u001b[0m, in \u001b[0;36m<listcomp>\u001b[1;34m(.0)\u001b[0m\n\u001b[0;32m      1\u001b[0m l1 \u001b[39m=\u001b[39m [\u001b[39m1\u001b[39m,\u001b[39m2\u001b[39m,\u001b[39m3\u001b[39m]\n\u001b[1;32m----> 2\u001b[0m res \u001b[39m=\u001b[39m [ [a, b, c] \u001b[39mfor\u001b[39;00m a \u001b[39min\u001b[39;00m l1 \u001b[39mfor\u001b[39;00m b \u001b[39min\u001b[39;00m l1  \u001b[39mif\u001b[39;00m ( a\u001b[39m!=\u001b[39m b)]\n\u001b[0;32m      3\u001b[0m \u001b[39mprint\u001b[39m(res)\n",
      "\u001b[1;31mNameError\u001b[0m: name 'c' is not defined"
     ]
    }
   ],
   "source": [
    "l1 = [1,2,3]\n",
    "res:\n",
    "print(res)"
   ]
  }
 ],
 "metadata": {
  "kernelspec": {
   "display_name": "Python 3",
   "language": "python",
   "name": "python3"
  },
  "language_info": {
   "codemirror_mode": {
    "name": "ipython",
    "version": 3
   },
   "file_extension": ".py",
   "mimetype": "text/x-python",
   "name": "python",
   "nbconvert_exporter": "python",
   "pygments_lexer": "ipython3",
   "version": "3.11.3"
  },
  "orig_nbformat": 4
 },
 "nbformat": 4,
 "nbformat_minor": 2
}
