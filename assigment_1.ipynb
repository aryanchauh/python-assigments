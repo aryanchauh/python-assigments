{
 "cells": [
  {
   "cell_type": "code",
   "execution_count": 2,
   "metadata": {},
   "outputs": [
    {
     "name": "stdout",
     "output_type": "stream",
     "text": [
      "2.0\n"
     ]
    }
   ],
   "source": [
    "#Program to find the average of two numbers entered by a user?\n",
    "a = int(input(\"enter three number 1 :-\"))\n",
    "b = int(input(\"enter three number 1 :-\"))\n",
    "f= int(input(\"enter three number 1 :-\"))\n",
    "c = a+b+f\n",
    "# the sum of the numbers divided by the total number of values in the set\n",
    "avrage =c/3\n",
    "print(avrage)"
   ]
  },
  {
   "cell_type": "code",
   "execution_count": 38,
   "metadata": {},
   "outputs": [
    {
     "ename": "AttributeError",
     "evalue": "'function' object has no attribute 'split'",
     "output_type": "error",
     "traceback": [
      "\u001b[1;31m---------------------------------------------------------------------------\u001b[0m",
      "\u001b[1;31mAttributeError\u001b[0m                            Traceback (most recent call last)",
      "Cell \u001b[1;32mIn[38], line 4\u001b[0m\n\u001b[0;32m      2\u001b[0m lst \u001b[39m=\u001b[39m[]\n\u001b[0;32m      3\u001b[0m \u001b[39mfor\u001b[39;00m item \u001b[39min\u001b[39;00m \u001b[39mrange\u001b[39m(N):\n\u001b[1;32m----> 4\u001b[0m     l\u001b[39m=\u001b[39m\u001b[39minput\u001b[39;49m\u001b[39m.\u001b[39;49msplit()\n\u001b[0;32m      5\u001b[0m     \u001b[39mif\u001b[39;00m l[\u001b[39m0\u001b[39m] \u001b[39m==\u001b[39m \u001b[39m'\u001b[39m\u001b[39minsert\u001b[39m\u001b[39m'\u001b[39m:\n\u001b[0;32m      6\u001b[0m         lst\u001b[39m.\u001b[39minsert(\u001b[39mint\u001b[39m(l[\u001b[39m1\u001b[39m]),\u001b[39mint\u001b[39m(l[\u001b[39m2\u001b[39m]))\n",
      "\u001b[1;31mAttributeError\u001b[0m: 'function' object has no attribute 'split'"
     ]
    }
   ],
   "source": [
    "N = int(input())\n",
    "lst =[]\n",
    "for item in range(N):\n",
    "    l=input.split()\n",
    "    if l[0] == 'insert':\n",
    "        lst.insert(int(l[1]),int(l[2]))\n",
    "    if l[0] == 'print':\n",
    "         print(lst)\n",
    "    if l[0] ==\"remove\":\n",
    "        lst.remove(int(l[1]))\n",
    "    if l[0] == 'append':\n",
    "        lst.append(int(l[1]))\n",
    "    if l[0] == \"sort\":\n",
    "        lst.sort()\n",
    "    if l[0] == 'pop':\n",
    "        lst.pop()\n",
    "    if l[0] == 'reverse':\n",
    "        lst.reverse()"
   ]
  },
  {
   "cell_type": "code",
   "execution_count": 5,
   "metadata": {},
   "outputs": [
    {
     "name": "stdout",
     "output_type": "stream",
     "text": [
      "No\n"
     ]
    }
   ],
   "source": [
    "#check number is fibbonachi or not\n",
    "n=int(input(\"Enter the number: \"))\n",
    "c=0\n",
    "a=1\n",
    "b=1\n",
    "if n==0 or n==1:\n",
    "    print(\"Yes\")\n",
    "else:\n",
    "    while c<n:\n",
    "        c=a+b\n",
    "        b=a\n",
    "        a=c\n",
    "    if c==n:\n",
    "        print(\"Yes\")\n",
    "    else:\n",
    "        print(\"No\")"
   ]
  },
  {
   "cell_type": "code",
   "execution_count": 6,
   "metadata": {},
   "outputs": [
    {
     "name": "stdout",
     "output_type": "stream",
     "text": [
      "(4, 'B', False, 1, 'a', True)\n"
     ]
    }
   ],
   "source": [
    "#conxnTW TWO TUPLES\n",
    "tup = (1,\"a\",True)\n",
    "tup2 = ( 4,\"B\",False)\n",
    "#print(tup + tup2)\n",
    "print(tup2 + tup)\n"
   ]
  },
  {
   "cell_type": "code",
   "execution_count": null,
   "metadata": {},
   "outputs": [],
   "source": [
    "#find second largest element in list\n",
    "def second_smallest(l):\n",
    "    min1 = min2 = float('inf')\n",
    "\n",
    "    for number in l:\n",
    "        if number < min1:\n",
    "            min2 = min1\n",
    "            min1 = number\n",
    "        elif number < min2 and number != min1:\n",
    "            min2 = number\n",
    "\n",
    "    return min2\n",
    "\n",
    "\n",
    "print(second_smallest([1, 1, 3, 5, 7]))"
   ]
  },
  {
   "cell_type": "code",
   "execution_count": 7,
   "metadata": {},
   "outputs": [
    {
     "name": "stdout",
     "output_type": "stream",
     "text": [
      "['AYAN', 'ARYAN', 'MOHIT', 'JUNJUN', 'ROHIT']\n"
     ]
    }
   ],
   "source": [
    "list = []\n",
    "i = 1\n",
    "while i < 6:\n",
    "    a = input(\"Please enter \" + str(i) +  \" list : \")\n",
    "    list.append(a)\n",
    "    i+=1\n",
    "print(list)"
   ]
  },
  {
   "cell_type": "code",
   "execution_count": 1,
   "metadata": {},
   "outputs": [
    {
     "name": "stdout",
     "output_type": "stream",
     "text": [
      "['aryan']\n",
      "['aryan', 'mohit']\n",
      "['aryan', 'edge', 'mohit']\n",
      "['aryan', 'edge', 'mohit', 'ryu']\n",
      "['Ayan', 'aryan', 'edge', 'mohit', 'ryu']\n",
      "['Ayan', 'aryan', 'edge', 'hitmAN', 'mohit', 'ryu']\n",
      "['Ayan', 'SFOFSD', 'aryan', 'edge', 'hitmAN', 'mohit', 'ryu']\n",
      "['Ayan', 'GFOMDFGHG', 'SFOFSD', 'aryan', 'edge', 'hitmAN', 'mohit', 'ryu']\n",
      "['Ayan', 'GFOMDFGHG', 'SFOFSD', 'aryan', 'edge', 'fdgodgos', 'hitmAN', 'mohit', 'ryu']\n",
      "['Ayan', 'GFOMDFGHG', 'SFOFSD', 'aryan', 'edge', 'fdgodgos', 'gsdgstesafgagsdhdfhd', 'hitmAN', 'mohit', 'ryu']\n"
     ]
    }
   ],
   "source": [
    "#PRINT NUMBER IN SORTED ARREY\n",
    "list = []\n",
    "i= 1\n",
    "while i < 11:\n",
    "    a = input(\"Please enter \" + str(i)+\": \")\n",
    "    list.append(a)\n",
    "    i+=1\n",
    "    list.sort()\n",
    "    print(list)"
   ]
  },
  {
   "cell_type": "code",
   "execution_count": 10,
   "metadata": {},
   "outputs": [
    {
     "name": "stdout",
     "output_type": "stream",
     "text": [
      "Hello,\n",
      "\tAryan!\n"
     ]
    }
   ],
   "source": [
    "#ESCAPE SEQUNCE CHARACTER\n",
    "print(\"Hello,\\n\\tAryan!\")\n"
   ]
  },
  {
   "cell_type": "code",
   "execution_count": null,
   "metadata": {},
   "outputs": [],
   "source": [
    "def fibonacci(n):\n",
    "    if n <= 0:\n",
    "        return 0\n",
    "    elif n == 1:\n",
    "        return 1\n",
    "    else:\n",
    "        return fibonacci(n-1) + fibonacci(n-2)\n",
    "\n",
    "\n",
    "for i in range(1, 11):\n",
    "    print(\"Fibonacci number\", i, \":\", fibonacci(i))"
   ]
  },
  {
   "cell_type": "code",
   "execution_count": null,
   "metadata": {},
   "outputs": [],
   "source": [
    "#CHECK ID IS VALID OR NOT\n",
    "st_id = [23144, 63668, 12557 , 13478]\n",
    "enter_id =int(input(\"enter the st-id : - \"))\n",
    "\n",
    "if enter_id in st_id:\n",
    "    print( \" id is valid \")\n",
    "else:\n",
    "    print(\"id not valid\")"
   ]
  },
  {
   "cell_type": "code",
   "execution_count": 11,
   "metadata": {},
   "outputs": [
    {
     "name": "stdout",
     "output_type": "stream",
     "text": [
      "55\n"
     ]
    }
   ],
   "source": [
    "num1 = int(input(\"enter three number 1 :-\"))\n",
    "num2 = int(input(\"enter three number 2 :-\"))\n",
    "num3 = int(input(\"enter three number 3 :-\"))\n",
    "\n",
    "#if (num1 >num2 and num1>num3):\n",
    "#    print(\"number 1 is largest \")\n",
    "#elif (num2>num1 and num2>num3):\n",
    "#    print(\"number 2 is largest\")\n",
    "#else:\n",
    "#    print(\"number 3 is largest\")\n",
    "b = max(num1,num2,num3)\n",
    "print(b)"
   ]
  },
  {
   "cell_type": "code",
   "execution_count": null,
   "metadata": {},
   "outputs": [],
   "source": [
    "#CHECK COMMENT IS NEGETIVE OR POSTITIVE\n",
    "positive = [\"good\", \"amazing\", \"value for money\"]\n",
    "negative = [\"cheap\", \"poor\", \"fraud\"]\n",
    "\n",
    "review = input(\"Enter your review: \")\n",
    "\n",
    "positive_count = sum(1 for word in positive if word in review)\n",
    "negative_count = sum(1 for word in negative if word in review)\n",
    "\n",
    "if positive_count > negative_count:\n",
    "    print(\"Your review is positive!\")\n",
    "elif positive_count < negative_count:\n",
    "    print(\"Your review is negative!\")\n",
    "else:\n",
    "    print(\"Your review is neutral.\")"
   ]
  },
  {
   "cell_type": "code",
   "execution_count": 1,
   "metadata": {},
   "outputs": [
    {
     "name": "stdout",
     "output_type": "stream",
     "text": [
      "20\n",
      "18\n",
      "16\n",
      "14\n",
      "12\n",
      "10\n",
      "8\n",
      "6\n",
      "4\n",
      "2\n"
     ]
    }
   ],
   "source": [
    "num = int(input(\"enter the number :- \"))\n",
    "\n",
    "for i in range(10 , 0, -1):\n",
    "    print( num*i)"
   ]
  },
  {
   "cell_type": "code",
   "execution_count": null,
   "metadata": {},
   "outputs": [],
   "source": [
    "#check message is spam or not\n",
    "spam_words = [\"make a lot of money\", \"buy now\", \"subscribe this\", \"Click this\", \"you Won\", \"Discount\", \"Coupon\"]\n",
    "\n",
    "text = input(\"Enter your text: \")\n",
    "\n",
    "for word in spam_words:\n",
    "    if word in text:\n",
    "        print(\"Your text is spam!\")\n",
    "        break\n",
    "else:\n",
    "    print(\"Your text is not spam.\")\n"
   ]
  },
  {
   "cell_type": "code",
   "execution_count": null,
   "metadata": {},
   "outputs": [],
   "source": [
    "#Program to calculate Square entered by User\n",
    "a = int(input(\"enter the age\"))\n",
    "square = a*a\n",
    "print(square)"
   ]
  },
  {
   "cell_type": "code",
   "execution_count": null,
   "metadata": {},
   "outputs": [],
   "source": [
    "numbers = [1, 5, 10, 7, 8, 3, 12, 8]\n",
    "sum = 0\n",
    "\n",
    "for number in numbers:\n",
    "    if number < 10:\n",
    "        sum += number\n",
    "\n",
    "print(\"Sum of elements less than 10:\", sum)\n"
   ]
  },
  {
   "cell_type": "code",
   "execution_count": null,
   "metadata": {},
   "outputs": [],
   "source": [
    "num = int(input(\"enter the number :- \"))\n",
    "\n",
    "#for i in range(1 , 10):\n",
    "#    print(num*i)\n",
    "\n",
    "i = 1\n",
    "while (i<=10):\n",
    "    print((num*i))\n",
    "    i += 1\n"
   ]
  },
  {
   "cell_type": "code",
   "execution_count": 12,
   "metadata": {},
   "outputs": [
    {
     "name": "stdout",
     "output_type": "stream",
     "text": [
      "[1, 7, [4, 9], ('a', 'b'), 'i', 'g']\n",
      "[('a', 'b'), 'i', 'g']\n"
     ]
    }
   ],
   "source": [
    "list = [1,7,[4,9],('a','b'), 'i']\n",
    "\n",
    "list.append('g')\n",
    "print(list)\n",
    "\n",
    "slic = len(list)\n",
    "\n",
    "list2 = list[slic-3:slic]\n",
    "print(list2)"
   ]
  },
  {
   "cell_type": "code",
   "execution_count": 13,
   "metadata": {},
   "outputs": [
    {
     "name": "stdout",
     "output_type": "stream",
     "text": [
      "aryan good afternoon\n"
     ]
    }
   ],
   "source": [
    "int = input()\n",
    "\n",
    "print( int, \"good afternoon\")"
   ]
  },
  {
   "cell_type": "code",
   "execution_count": 14,
   "metadata": {},
   "outputs": [
    {
     "name": "stdout",
     "output_type": "stream",
     "text": [
      "[1, 7, [4, 9], ('a', 'b'), 'i', 'g']\n",
      "[('a', 'b'), 'i', 'g']\n"
     ]
    }
   ],
   "source": [
    "list = [1,7,[4,9],('a','b'), 'i']\n",
    "\n",
    "list.append('g')\n",
    "print(list)\n",
    "\n",
    "slic = len(list)\n",
    "\n",
    "list2 = list[slic-3:slic]\n",
    "print(list2)"
   ]
  },
  {
   "cell_type": "code",
   "execution_count": 15,
   "metadata": {},
   "outputs": [
    {
     "name": "stdout",
     "output_type": "stream",
     "text": [
      "There are 9 teenage students in the list.\n"
     ]
    }
   ],
   "source": [
    "#Program to calculate teen ager students in list.\n",
    "\n",
    "lst = [11, 9, 14, 18, 15, 16, 20, 13, 16, 17, 13, 18, 0]\n",
    "teen_count = 0\n",
    "\n",
    "for age in lst:\n",
    "    if age >= 13 and age <= 18:\n",
    "        teen_count += 1\n",
    "\n",
    "print(\"There are\", teen_count, \"teenage students in the list.\")"
   ]
  },
  {
   "cell_type": "code",
   "execution_count": null,
   "metadata": {},
   "outputs": [],
   "source": [
    "num = int(input(\"enter the number :- \"))\n",
    "\n",
    "#for i in range(1 , 10):\n",
    "#    print(num*i)\n",
    "\n",
    "i = 1\n",
    "while (i<=10):\n",
    "    print((num*i))\n",
    "    i += 1\n"
   ]
  },
  {
   "cell_type": "code",
   "execution_count": null,
   "metadata": {},
   "outputs": [],
   "source": [
    "num = int(input(\"enter the number\"))\n",
    "\n",
    "if num < 0:\n",
    "   print(\"Enter a positive number\")\n",
    "else:\n",
    "   sum = 0\n",
    "   \n",
    "   while(num > 0):\n",
    "       sum += num\n",
    "       num -= 1\n",
    "   print(\"The sum is\", sum)"
   ]
  },
  {
   "cell_type": "code",
   "execution_count": null,
   "metadata": {},
   "outputs": [],
   "source": [
    "age = int(input(\"enter the age\"))\n",
    "# if u are under 18 you are not eligable for vote\n",
    "if (age > 18):\n",
    "    print(\"you are eligable\")\n",
    "elif (age<18):\n",
    "    print (\"you are not eligable\")\n",
    "else:\n",
    "    print(\"wrong vale\")  "
   ]
  },
  {
   "cell_type": "code",
   "execution_count": null,
   "metadata": {},
   "outputs": [],
   "source": [
    "#check position\n",
    "def check(n, pos):\n",
    "    n=n//(10**(pos-1))\n",
    "    n=n%10\n",
    "    return n\n",
    "print(check(156, 2))\n"
   ]
  },
  {
   "cell_type": "code",
   "execution_count": null,
   "metadata": {},
   "outputs": [],
   "source": [
    "username = input(\"Enter your username: \")\n",
    "\n",
    "if len(username) == 10:\n",
    "    print(\"Your username is 10 characters long.\")\n",
    "else:\n",
    "    print(\"Your username is not 10 characters long.\")\n"
   ]
  },
  {
   "cell_type": "code",
   "execution_count": null,
   "metadata": {},
   "outputs": [],
   "source": [
    "numbers = [1, 5, 10, 7, 8, 3, 12, 8]\n",
    "sum = 0\n",
    "\n",
    "for number in numbers:\n",
    "    if number < 10:\n",
    "        sum += number\n",
    "\n",
    "print(\"Sum of elements less than 10:\", sum)\n"
   ]
  },
  {
   "cell_type": "code",
   "execution_count": null,
   "metadata": {},
   "outputs": [],
   "source": [
    "t1 = (1,4,(2,3),'jhon','jane')\n",
    "t2 = (t1[2],t1[3])\n",
    "\n",
    "print(t2)\n",
    "print((2,3) in t1)\n",
    "print(1 in t2)"
   ]
  },
  {
   "cell_type": "code",
   "execution_count": null,
   "metadata": {},
   "outputs": [],
   "source": [
    "#Try to repeat your favorite Hero followed by same movie.\n",
    "#Try to repeat hero followed by different movie\n",
    "#Try to add different hero with the same movie.\n",
    "#How to print all heroes' names.\n",
    "#How to print all movie names\n",
    "\n",
    "dic ={'keanu Reeves': 'john wick','christan bale': 'batman', 'RDJ ': 'iron man' }\n",
    "\n",
    "dic['tom hardy'] = 'batman'\n",
    "print(dic)\n",
    "#l = dic.keys()\n",
    "#b = dic.values()\n",
    "#print (l)\n",
    "#print (b)"
   ]
  }
 ],
 "metadata": {
  "kernelspec": {
   "display_name": "Python 3",
   "language": "python",
   "name": "python3"
  },
  "language_info": {
   "codemirror_mode": {
    "name": "ipython",
    "version": 3
   },
   "file_extension": ".py",
   "mimetype": "text/x-python",
   "name": "python",
   "nbconvert_exporter": "python",
   "pygments_lexer": "ipython3",
   "version": "3.11.3"
  },
  "orig_nbformat": 4
 },
 "nbformat": 4,
 "nbformat_minor": 2
}
