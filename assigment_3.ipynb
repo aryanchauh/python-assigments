{
 "cells": [
  {
   "cell_type": "code",
   "execution_count": null,
   "metadata": {},
   "outputs": [],
   "source": [
    "#Question 1 : What is difference between difference and symmetric difference.\n",
    "\n",
    "#Answer : Difference: Elements present on one set, but not on the other. Symmetric Difference: Elements from both sets, that are not present on the other.\n",
    "\n",
    "#Question 2 : Why we use comma after element of tuple.\n",
    "\n",
    "#Answer : To create a tuple with only one item, you have add a comma after the item, otherwise Python will not recognize the variable as a tuple.\n",
    "\n",
    "#Question 3 : Why list is convert in sorted when change list to set.\n",
    "\n",
    "#Answer : A set is an unordered data structure, so it does not preserve the insertion orde"
   ]
  }
 ],
 "metadata": {
  "language_info": {
   "name": "python"
  },
  "orig_nbformat": 4
 },
 "nbformat": 4,
 "nbformat_minor": 2
}
